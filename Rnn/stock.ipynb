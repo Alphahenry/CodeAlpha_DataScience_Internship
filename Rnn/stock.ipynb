{
 "cells": [
  {
   "cell_type": "markdown",
   "id": "46b3dea7-4ffb-41ad-931e-f36d9a6c8994",
   "metadata": {},
   "source": [
    "## GOOGLE STOCK PREDICTOR USING  (RNNs) for Stock Price Prediction\n",
    "\n",
    "Predicting stock prices is a challenging task due to the dynamic and non-linear nature of financial markets. Traditional methods, such as statistical models, often struggle to capture the intricate patterns and dependencies in time series data. However, advancements in machine learning, particularly Recurrent Neural Networks (RNNs), have opened new avenues for making more accurate predictions by leveraging sequential data.\n",
    "\n",
    "## What are Recurrent Neural Networks (RNNs)?\n",
    "\n",
    "Recurrent Neural Networks (RNNs) are a class of artificial neural networks designed to recognize patterns in sequences of data, such as time series. Unlike traditional feedforward neural networks, RNNs have connections that form directed cycles, enabling them to maintain a memory of previous inputs. This characteristic makes RNNs particularly well-suited for tasks where context and temporal dynamics are crucial, such as stock price prediction.\n",
    "\n",
    "## How RNNs Work\n",
    "\n",
    "In an RNN, the hidden state is updated at each time step, allowing information to persist. This is achieved through the following process:\n",
    "1. **Input Layer:** Receives the input data at each time step.\n",
    "2. **Hidden Layer:** Maintains a hidden state that captures information from previous time steps. The hidden state is updated based on the current input and the previous hidden state.\n",
    "3. **Output Layer:** Generates predictions based on the hidden state.\n",
    "\n",
    "## Advantages of RNNs for Stock Price Prediction\n",
    "\n",
    "RNNs offer several advantages for stock price prediction:\n",
    "- **Temporal Dependency:** They can capture temporal dependencies in stock price movements, recognizing patterns over time.\n",
    "- **Memory Retention:** RNNs maintain information from previous time steps, allowing them to understand the context of recent price trends.\n",
    "- **Flexibility:** They can be adapted to various types of sequential data, including daily, hourly, or minute-by-minute stock prices.\n",
    "\n"
   ]
  },
  {
   "cell_type": "code",
   "execution_count": 2,
   "id": "80b91cc3-fe8b-409b-b010-6379e92b05b0",
   "metadata": {},
   "outputs": [],
   "source": [
    "#import libraries"
   ]
  },
  {
   "cell_type": "code",
   "execution_count": 1,
   "id": "9267d135-3353-4779-ac18-9bc4e0acae7b",
   "metadata": {},
   "outputs": [],
   "source": [
    "import tensorflow as tf\n",
    "import pandas as pd\n",
    "import numpy as np\n",
    "import matplotlib.pyplot as plt"
   ]
  },
  {
   "cell_type": "markdown",
   "id": "b568b854-1bac-46f4-9ae6-f391af95d7b5",
   "metadata": {},
   "source": [
    "## data preprocessing"
   ]
  },
  {
   "cell_type": "code",
   "execution_count": 2,
   "id": "f75ee004-bb0b-43fc-8724-123b1c9a6289",
   "metadata": {},
   "outputs": [],
   "source": [
    "#load the data"
   ]
  },
  {
   "cell_type": "code",
   "execution_count": 6,
   "id": "975f11da-3ac2-4f28-8b14-abd4445e088b",
   "metadata": {},
   "outputs": [
    {
     "data": {
      "text/html": [
       "<div>\n",
       "<style scoped>\n",
       "    .dataframe tbody tr th:only-of-type {\n",
       "        vertical-align: middle;\n",
       "    }\n",
       "\n",
       "    .dataframe tbody tr th {\n",
       "        vertical-align: top;\n",
       "    }\n",
       "\n",
       "    .dataframe thead th {\n",
       "        text-align: right;\n",
       "    }\n",
       "</style>\n",
       "<table border=\"1\" class=\"dataframe\">\n",
       "  <thead>\n",
       "    <tr style=\"text-align: right;\">\n",
       "      <th></th>\n",
       "      <th>Date</th>\n",
       "      <th>Open</th>\n",
       "      <th>High</th>\n",
       "      <th>Low</th>\n",
       "      <th>Close</th>\n",
       "      <th>Adj Close</th>\n",
       "      <th>Volume</th>\n",
       "    </tr>\n",
       "  </thead>\n",
       "  <tbody>\n",
       "    <tr>\n",
       "      <th>0</th>\n",
       "      <td>2019-07-15</td>\n",
       "      <td>57.342999</td>\n",
       "      <td>57.541000</td>\n",
       "      <td>56.970001</td>\n",
       "      <td>57.516998</td>\n",
       "      <td>57.451622</td>\n",
       "      <td>18076000</td>\n",
       "    </tr>\n",
       "    <tr>\n",
       "      <th>1</th>\n",
       "      <td>2019-07-16</td>\n",
       "      <td>57.299999</td>\n",
       "      <td>57.929001</td>\n",
       "      <td>57.250000</td>\n",
       "      <td>57.679001</td>\n",
       "      <td>57.613438</td>\n",
       "      <td>24776000</td>\n",
       "    </tr>\n",
       "    <tr>\n",
       "      <th>2</th>\n",
       "      <td>2019-07-17</td>\n",
       "      <td>57.548500</td>\n",
       "      <td>57.917999</td>\n",
       "      <td>57.288502</td>\n",
       "      <td>57.317501</td>\n",
       "      <td>57.252350</td>\n",
       "      <td>23400000</td>\n",
       "    </tr>\n",
       "    <tr>\n",
       "      <th>3</th>\n",
       "      <td>2019-07-18</td>\n",
       "      <td>57.087002</td>\n",
       "      <td>57.380249</td>\n",
       "      <td>56.636501</td>\n",
       "      <td>57.316502</td>\n",
       "      <td>57.251350</td>\n",
       "      <td>25814000</td>\n",
       "    </tr>\n",
       "    <tr>\n",
       "      <th>4</th>\n",
       "      <td>2019-07-19</td>\n",
       "      <td>57.409500</td>\n",
       "      <td>57.556999</td>\n",
       "      <td>56.480999</td>\n",
       "      <td>56.505001</td>\n",
       "      <td>56.440773</td>\n",
       "      <td>32944000</td>\n",
       "    </tr>\n",
       "  </tbody>\n",
       "</table>\n",
       "</div>"
      ],
      "text/plain": [
       "         Date       Open       High        Low      Close  Adj Close    Volume\n",
       "0  2019-07-15  57.342999  57.541000  56.970001  57.516998  57.451622  18076000\n",
       "1  2019-07-16  57.299999  57.929001  57.250000  57.679001  57.613438  24776000\n",
       "2  2019-07-17  57.548500  57.917999  57.288502  57.317501  57.252350  23400000\n",
       "3  2019-07-18  57.087002  57.380249  56.636501  57.316502  57.251350  25814000\n",
       "4  2019-07-19  57.409500  57.556999  56.480999  56.505001  56.440773  32944000"
      ]
     },
     "execution_count": 6,
     "metadata": {},
     "output_type": "execute_result"
    }
   ],
   "source": [
    "train_df = pd.read_csv(\"training.csv\")\n",
    "train_df.head()"
   ]
  },
  {
   "cell_type": "code",
   "execution_count": 8,
   "id": "6ccfac54-a153-4197-a8cf-44f66d1c74c9",
   "metadata": {},
   "outputs": [
    {
     "name": "stdout",
     "output_type": "stream",
     "text": [
      "<class 'pandas.core.frame.DataFrame'>\n",
      "RangeIndex: 1006 entries, 0 to 1005\n",
      "Data columns (total 7 columns):\n",
      " #   Column     Non-Null Count  Dtype  \n",
      "---  ------     --------------  -----  \n",
      " 0   Date       1006 non-null   object \n",
      " 1   Open       1006 non-null   float64\n",
      " 2   High       1006 non-null   float64\n",
      " 3   Low        1006 non-null   float64\n",
      " 4   Close      1006 non-null   float64\n",
      " 5   Adj Close  1006 non-null   float64\n",
      " 6   Volume     1006 non-null   int64  \n",
      "dtypes: float64(5), int64(1), object(1)\n",
      "memory usage: 55.1+ KB\n"
     ]
    }
   ],
   "source": [
    "train_df.info()"
   ]
  },
  {
   "cell_type": "code",
   "execution_count": 9,
   "id": "68419858-2536-4870-9517-8603f61b6fca",
   "metadata": {},
   "outputs": [
    {
     "name": "stdout",
     "output_type": "stream",
     "text": [
      "<class 'pandas.core.frame.DataFrame'>\n",
      "RangeIndex: 252 entries, 0 to 251\n",
      "Data columns (total 7 columns):\n",
      " #   Column     Non-Null Count  Dtype  \n",
      "---  ------     --------------  -----  \n",
      " 0   Date       252 non-null    object \n",
      " 1   Open       252 non-null    float64\n",
      " 2   High       252 non-null    float64\n",
      " 3   Low        252 non-null    float64\n",
      " 4   Close      252 non-null    float64\n",
      " 5   Adj Close  252 non-null    float64\n",
      " 6   Volume     252 non-null    int64  \n",
      "dtypes: float64(5), int64(1), object(1)\n",
      "memory usage: 13.9+ KB\n"
     ]
    }
   ],
   "source": [
    "test_df.info()"
   ]
  },
  {
   "cell_type": "markdown",
   "id": "a2f11eaf-3a72-4347-a48c-ea4ce17749fd",
   "metadata": {},
   "source": [
    "## Feature Scaling"
   ]
  },
  {
   "cell_type": "code",
   "execution_count": 10,
   "id": "bb5bf3ca-7244-4eb4-9d20-4d6ea62d7dc2",
   "metadata": {},
   "outputs": [],
   "source": [
    "#picking the open column"
   ]
  },
  {
   "cell_type": "code",
   "execution_count": 12,
   "id": "030f30cb-5b0b-4fad-aa98-3875c79b9c98",
   "metadata": {},
   "outputs": [],
   "source": [
    "training_set = train_df.iloc[:,1:2].values"
   ]
  },
  {
   "cell_type": "code",
   "execution_count": 13,
   "id": "4d6e84f8-5ee3-48a8-9550-9c84923d46c7",
   "metadata": {},
   "outputs": [
    {
     "data": {
      "text/plain": [
       "((1006, 1), (1006, 7))"
      ]
     },
     "execution_count": 13,
     "metadata": {},
     "output_type": "execute_result"
    }
   ],
   "source": [
    "training_set.shape, train_df.shape"
   ]
  },
  {
   "cell_type": "code",
   "execution_count": 22,
   "id": "f207cf72-d774-4215-b32c-1f685ff358d3",
   "metadata": {},
   "outputs": [],
   "source": [
    "from sklearn.preprocessing import MinMaxScaler"
   ]
  },
  {
   "cell_type": "markdown",
   "id": "40a95d81-bd18-42f0-8d30-36c588ac8078",
   "metadata": {},
   "source": [
    "## Feature scaling"
   ]
  },
  {
   "cell_type": "markdown",
   "id": "1b7e32bb-32e9-445b-a316-08026c49b6e3",
   "metadata": {},
   "source": [
    "### Normalization"
   ]
  },
  {
   "cell_type": "code",
   "execution_count": 14,
   "id": "405dd258-947b-4a70-b389-d032e91ff5e2",
   "metadata": {},
   "outputs": [],
   "source": [
    "from sklearn.preprocessing import MinMaxScaler"
   ]
  },
  {
   "cell_type": "code",
   "execution_count": 18,
   "id": "28bfcb15-1f35-4f09-9d93-72c6c48a2a5e",
   "metadata": {},
   "outputs": [],
   "source": [
    "my_sc = MinMaxScaler(feature_range=(0,1))"
   ]
  },
  {
   "cell_type": "code",
   "execution_count": 19,
   "id": "cd1557e5-7ac0-483c-8668-da35ea7680af",
   "metadata": {},
   "outputs": [],
   "source": [
    "scaled_train_set = my_sc.fit_transform(training_set)"
   ]
  },
  {
   "cell_type": "code",
   "execution_count": 20,
   "id": "e73b91d5-8e53-4d0c-8544-d951359f61b6",
   "metadata": {},
   "outputs": [
    {
     "data": {
      "text/plain": [
       "array([[0.0456138 ],\n",
       "       [0.04517962],\n",
       "       [0.04768877],\n",
       "       ...,\n",
       "       [0.66887966],\n",
       "       [0.64555529],\n",
       "       [0.67120203]])"
      ]
     },
     "execution_count": 20,
     "metadata": {},
     "output_type": "execute_result"
    }
   ],
   "source": [
    "scaled_train_set"
   ]
  },
  {
   "cell_type": "code",
   "execution_count": null,
   "id": "5324797f-f66b-48e9-89d3-958f713e7898",
   "metadata": {},
   "outputs": [],
   "source": []
  },
  {
   "cell_type": "code",
   "execution_count": 24,
   "id": "9e9a4d5f-6c32-4de0-b3eb-75bbb28973de",
   "metadata": {},
   "outputs": [],
   "source": [
    "scaled = MinMaxScaler(feature_range=(0,1))"
   ]
  },
  {
   "cell_type": "code",
   "execution_count": 25,
   "id": "e1e6d6f4-b215-44e1-ba3a-760e3499b3db",
   "metadata": {},
   "outputs": [],
   "source": [
    "scaled_trainset = scaled.fit_transform(training_set)"
   ]
  },
  {
   "cell_type": "code",
   "execution_count": 27,
   "id": "048ea185-5819-4739-bca4-5debb8b33cef",
   "metadata": {},
   "outputs": [
    {
     "data": {
      "text/plain": [
       "array([[ 57.342999],\n",
       "       [ 57.299999],\n",
       "       [ 57.5485  ],\n",
       "       ...,\n",
       "       [119.07    ],\n",
       "       [116.760002],\n",
       "       [119.300003]])"
      ]
     },
     "execution_count": 27,
     "metadata": {},
     "output_type": "execute_result"
    }
   ],
   "source": [
    "training_set"
   ]
  },
  {
   "cell_type": "code",
   "execution_count": 28,
   "id": "c524cbb5-6e93-4e11-8a4d-b92418e66a6c",
   "metadata": {},
   "outputs": [],
   "source": [
    "#create a data structure with 70 timestamps"
   ]
  },
  {
   "cell_type": "code",
   "execution_count": 29,
   "id": "783405f7-34b8-48ab-945b-a193177fab8b",
   "metadata": {},
   "outputs": [],
   "source": [
    "X_train =[]\n",
    "y_train = []\n",
    "for i in range(70, 1006):\n",
    "    X_train.append(scaled_trainset[i-70:i,0])\n",
    "    y_train.append(scaled_trainset[1,0])"
   ]
  },
  {
   "cell_type": "code",
   "execution_count": 30,
   "id": "c05948a3-e90a-4adc-b7ac-5e6cd46603b1",
   "metadata": {},
   "outputs": [],
   "source": [
    "#convert X_train and y_train into np array"
   ]
  },
  {
   "cell_type": "code",
   "execution_count": 31,
   "id": "400585f6-fc7e-4c89-9bde-7c54b4f58fe8",
   "metadata": {},
   "outputs": [],
   "source": [
    "X_train,y_train = np.array(X_train),np.array(y_train)"
   ]
  },
  {
   "cell_type": "code",
   "execution_count": 32,
   "id": "0182d266-d808-4fff-a862-acda35e02f65",
   "metadata": {},
   "outputs": [
    {
     "data": {
      "text/plain": [
       "array([[0.0456138 , 0.04517962, 0.04768877, ..., 0.09815426, 0.09943154,\n",
       "        0.0988257 ],\n",
       "       [0.04517962, 0.04768877, 0.04302896, ..., 0.09943154, 0.0988257 ,\n",
       "        0.09659931],\n",
       "       [0.04768877, 0.04302896, 0.04628527, ..., 0.0988257 , 0.09659931,\n",
       "        0.09382763],\n",
       "       ...,\n",
       "       [0.5066187 , 0.50379151, 0.49086719, ..., 0.6788758 , 0.68473215,\n",
       "        0.68725643],\n",
       "       [0.50379151, 0.49086719, 0.49359338, ..., 0.68473215, 0.68725643,\n",
       "        0.66887966],\n",
       "       [0.49086719, 0.49359338, 0.50328662, ..., 0.68725643, 0.66887966,\n",
       "        0.64555529]])"
      ]
     },
     "execution_count": 32,
     "metadata": {},
     "output_type": "execute_result"
    }
   ],
   "source": [
    "X_train"
   ]
  },
  {
   "cell_type": "code",
   "execution_count": 34,
   "id": "8985a98d-4b3d-42ce-b11e-c07919e4c192",
   "metadata": {},
   "outputs": [
    {
     "data": {
      "text/plain": [
       "(936, 70)"
      ]
     },
     "execution_count": 34,
     "metadata": {},
     "output_type": "execute_result"
    }
   ],
   "source": [
    "X_train.shape"
   ]
  },
  {
   "cell_type": "code",
   "execution_count": 35,
   "id": "978801ae-ace7-4a05-96d6-8f44de1b5b38",
   "metadata": {},
   "outputs": [],
   "source": [
    "#change shape\n",
    "X_train = X_train.reshape(936,70,1)"
   ]
  },
  {
   "cell_type": "markdown",
   "id": "a267ef00-97d6-4897-bb98-03095a3440a0",
   "metadata": {},
   "source": [
    "### LSTM building"
   ]
  },
  {
   "cell_type": "code",
   "execution_count": 36,
   "id": "f7ddc396-a603-4478-bc86-2a787ba39b54",
   "metadata": {},
   "outputs": [],
   "source": [
    "#initializing RNN"
   ]
  },
  {
   "cell_type": "code",
   "execution_count": 38,
   "id": "5efa2cf0-05b8-4002-a605-2f2ba231eb6a",
   "metadata": {},
   "outputs": [],
   "source": [
    "model = tf.keras.models.Sequential()"
   ]
  },
  {
   "cell_type": "code",
   "execution_count": 39,
   "id": "24412a0e-7da3-4c8a-a37d-fa34a8b76cc5",
   "metadata": {},
   "outputs": [],
   "source": [
    "#first layer lstm"
   ]
  },
  {
   "cell_type": "code",
   "execution_count": 40,
   "id": "30a04516-1180-4392-b01f-0b988f660cb5",
   "metadata": {},
   "outputs": [
    {
     "name": "stderr",
     "output_type": "stream",
     "text": [
      "C:\\Python\\Python310\\lib\\site-packages\\keras\\src\\layers\\rnn\\rnn.py:204: UserWarning: Do not pass an `input_shape`/`input_dim` argument to a layer. When using Sequential models, prefer using an `Input(shape)` object as the first layer in the model instead.\n",
      "  super().__init__(**kwargs)\n"
     ]
    }
   ],
   "source": [
    "model.add(tf.keras.layers.LSTM(units=70, activation = 'relu', return_sequences=True,input_shape=(70,1)))"
   ]
  },
  {
   "cell_type": "code",
   "execution_count": 41,
   "id": "f5d45ac9-3956-464a-a5c5-c4bea9af1fac",
   "metadata": {},
   "outputs": [],
   "source": [
    "#drop layer.dropping 0.2 %neurons"
   ]
  },
  {
   "cell_type": "code",
   "execution_count": 42,
   "id": "dff7e214-a3cd-488c-a049-af6e11317d3e",
   "metadata": {},
   "outputs": [],
   "source": [
    "model.add(tf.keras.layers.Dropout(0.2))"
   ]
  },
  {
   "cell_type": "code",
   "execution_count": 43,
   "id": "6a5fb72c-39ee-4b38-b329-d4ccce7f3d7f",
   "metadata": {},
   "outputs": [],
   "source": [
    "#second lstm layer"
   ]
  },
  {
   "cell_type": "code",
   "execution_count": 46,
   "id": "60acd15f-12b2-46c9-8da4-f9d9b83adb66",
   "metadata": {},
   "outputs": [],
   "source": [
    "model.add(tf.keras.layers.LSTM(units = 70, activation='relu', return_sequences=True, input_shape=(70,1)))"
   ]
  },
  {
   "cell_type": "code",
   "execution_count": 47,
   "id": "e2e081e0-68c9-4a91-80ba-ae43afcc34d4",
   "metadata": {},
   "outputs": [],
   "source": [
    "#drop layer"
   ]
  },
  {
   "cell_type": "code",
   "execution_count": 48,
   "id": "00d5c1c1-ec40-42ee-8f17-eb9d7a00af17",
   "metadata": {},
   "outputs": [],
   "source": [
    "model.add(tf.keras.layers.Dropout(0.2))"
   ]
  },
  {
   "cell_type": "code",
   "execution_count": 49,
   "id": "416f5068-a676-4f47-aaf9-c20f53403679",
   "metadata": {},
   "outputs": [],
   "source": [
    "#third lstm layer"
   ]
  },
  {
   "cell_type": "code",
   "execution_count": 50,
   "id": "ff6c8491-60de-4079-afa8-7a0392a1e803",
   "metadata": {},
   "outputs": [],
   "source": [
    "model.add(tf.keras.layers.LSTM(units = 90, activation='relu', return_sequences=True, input_shape=(70,1)))"
   ]
  },
  {
   "cell_type": "code",
   "execution_count": 51,
   "id": "cc0aa4df-9180-4086-9b07-31b196385269",
   "metadata": {},
   "outputs": [],
   "source": [
    "#drop layer"
   ]
  },
  {
   "cell_type": "code",
   "execution_count": 52,
   "id": "e67fa220-cf9a-40f4-8d92-4f4d57b5e300",
   "metadata": {},
   "outputs": [],
   "source": [
    "model.add(tf.keras.layers.Dropout(0.2))"
   ]
  },
  {
   "cell_type": "code",
   "execution_count": 53,
   "id": "401be5c1-cc7f-43a9-9746-6ef36e18b0e6",
   "metadata": {},
   "outputs": [],
   "source": [
    "#fourth lstm layer"
   ]
  },
  {
   "cell_type": "code",
   "execution_count": 54,
   "id": "bf752a16-740e-4090-92d1-36942b87e9ea",
   "metadata": {},
   "outputs": [],
   "source": [
    "model.add(tf.keras.layers.LSTM(units = 120, activation='relu', input_shape=(70,1)))"
   ]
  },
  {
   "cell_type": "code",
   "execution_count": 55,
   "id": "46dd4dc1-a0a4-4082-b597-5b88bf7c1b00",
   "metadata": {},
   "outputs": [],
   "source": [
    "model.add(tf.keras.layers.Dropout(0.2))"
   ]
  },
  {
   "cell_type": "code",
   "execution_count": 56,
   "id": "b3146b3a-fccb-4809-9295-ecb27ba1c459",
   "metadata": {},
   "outputs": [],
   "source": [
    "#output layer"
   ]
  },
  {
   "cell_type": "code",
   "execution_count": 57,
   "id": "a671540f-1531-4457-8b69-a1688b28e2d0",
   "metadata": {},
   "outputs": [],
   "source": [
    "model.add(tf.keras.layers.Dense(units=1))"
   ]
  },
  {
   "cell_type": "code",
   "execution_count": 58,
   "id": "5f3c6b39-c087-4b2e-86d7-e8c2207028ea",
   "metadata": {},
   "outputs": [
    {
     "data": {
      "text/html": [
       "<pre style=\"white-space:pre;overflow-x:auto;line-height:normal;font-family:Menlo,'DejaVu Sans Mono',consolas,'Courier New',monospace\"><span style=\"font-weight: bold\">Model: \"sequential\"</span>\n",
       "</pre>\n"
      ],
      "text/plain": [
       "\u001b[1mModel: \"sequential\"\u001b[0m\n"
      ]
     },
     "metadata": {},
     "output_type": "display_data"
    },
    {
     "data": {
      "text/html": [
       "<pre style=\"white-space:pre;overflow-x:auto;line-height:normal;font-family:Menlo,'DejaVu Sans Mono',consolas,'Courier New',monospace\">┏━━━━━━━━━━━━━━━━━━━━━━━━━━━━━━━━━━━━━━┳━━━━━━━━━━━━━━━━━━━━━━━━━━━━━┳━━━━━━━━━━━━━━━━━┓\n",
       "┃<span style=\"font-weight: bold\"> Layer (type)                         </span>┃<span style=\"font-weight: bold\"> Output Shape                </span>┃<span style=\"font-weight: bold\">         Param # </span>┃\n",
       "┡━━━━━━━━━━━━━━━━━━━━━━━━━━━━━━━━━━━━━━╇━━━━━━━━━━━━━━━━━━━━━━━━━━━━━╇━━━━━━━━━━━━━━━━━┩\n",
       "│ lstm (<span style=\"color: #0087ff; text-decoration-color: #0087ff\">LSTM</span>)                          │ (<span style=\"color: #00d7ff; text-decoration-color: #00d7ff\">None</span>, <span style=\"color: #00af00; text-decoration-color: #00af00\">70</span>, <span style=\"color: #00af00; text-decoration-color: #00af00\">70</span>)              │          <span style=\"color: #00af00; text-decoration-color: #00af00\">20,160</span> │\n",
       "├──────────────────────────────────────┼─────────────────────────────┼─────────────────┤\n",
       "│ dropout (<span style=\"color: #0087ff; text-decoration-color: #0087ff\">Dropout</span>)                    │ (<span style=\"color: #00d7ff; text-decoration-color: #00d7ff\">None</span>, <span style=\"color: #00af00; text-decoration-color: #00af00\">70</span>, <span style=\"color: #00af00; text-decoration-color: #00af00\">70</span>)              │               <span style=\"color: #00af00; text-decoration-color: #00af00\">0</span> │\n",
       "├──────────────────────────────────────┼─────────────────────────────┼─────────────────┤\n",
       "│ lstm_1 (<span style=\"color: #0087ff; text-decoration-color: #0087ff\">LSTM</span>)                        │ (<span style=\"color: #00d7ff; text-decoration-color: #00d7ff\">None</span>, <span style=\"color: #00af00; text-decoration-color: #00af00\">70</span>, <span style=\"color: #00af00; text-decoration-color: #00af00\">70</span>)              │          <span style=\"color: #00af00; text-decoration-color: #00af00\">39,480</span> │\n",
       "├──────────────────────────────────────┼─────────────────────────────┼─────────────────┤\n",
       "│ dropout_1 (<span style=\"color: #0087ff; text-decoration-color: #0087ff\">Dropout</span>)                  │ (<span style=\"color: #00d7ff; text-decoration-color: #00d7ff\">None</span>, <span style=\"color: #00af00; text-decoration-color: #00af00\">70</span>, <span style=\"color: #00af00; text-decoration-color: #00af00\">70</span>)              │               <span style=\"color: #00af00; text-decoration-color: #00af00\">0</span> │\n",
       "├──────────────────────────────────────┼─────────────────────────────┼─────────────────┤\n",
       "│ lstm_2 (<span style=\"color: #0087ff; text-decoration-color: #0087ff\">LSTM</span>)                        │ (<span style=\"color: #00d7ff; text-decoration-color: #00d7ff\">None</span>, <span style=\"color: #00af00; text-decoration-color: #00af00\">70</span>, <span style=\"color: #00af00; text-decoration-color: #00af00\">90</span>)              │          <span style=\"color: #00af00; text-decoration-color: #00af00\">57,960</span> │\n",
       "├──────────────────────────────────────┼─────────────────────────────┼─────────────────┤\n",
       "│ dropout_2 (<span style=\"color: #0087ff; text-decoration-color: #0087ff\">Dropout</span>)                  │ (<span style=\"color: #00d7ff; text-decoration-color: #00d7ff\">None</span>, <span style=\"color: #00af00; text-decoration-color: #00af00\">70</span>, <span style=\"color: #00af00; text-decoration-color: #00af00\">90</span>)              │               <span style=\"color: #00af00; text-decoration-color: #00af00\">0</span> │\n",
       "├──────────────────────────────────────┼─────────────────────────────┼─────────────────┤\n",
       "│ lstm_3 (<span style=\"color: #0087ff; text-decoration-color: #0087ff\">LSTM</span>)                        │ (<span style=\"color: #00d7ff; text-decoration-color: #00d7ff\">None</span>, <span style=\"color: #00af00; text-decoration-color: #00af00\">120</span>)                 │         <span style=\"color: #00af00; text-decoration-color: #00af00\">101,280</span> │\n",
       "├──────────────────────────────────────┼─────────────────────────────┼─────────────────┤\n",
       "│ dropout_3 (<span style=\"color: #0087ff; text-decoration-color: #0087ff\">Dropout</span>)                  │ (<span style=\"color: #00d7ff; text-decoration-color: #00d7ff\">None</span>, <span style=\"color: #00af00; text-decoration-color: #00af00\">120</span>)                 │               <span style=\"color: #00af00; text-decoration-color: #00af00\">0</span> │\n",
       "├──────────────────────────────────────┼─────────────────────────────┼─────────────────┤\n",
       "│ dense (<span style=\"color: #0087ff; text-decoration-color: #0087ff\">Dense</span>)                        │ (<span style=\"color: #00d7ff; text-decoration-color: #00d7ff\">None</span>, <span style=\"color: #00af00; text-decoration-color: #00af00\">1</span>)                   │             <span style=\"color: #00af00; text-decoration-color: #00af00\">121</span> │\n",
       "└──────────────────────────────────────┴─────────────────────────────┴─────────────────┘\n",
       "</pre>\n"
      ],
      "text/plain": [
       "┏━━━━━━━━━━━━━━━━━━━━━━━━━━━━━━━━━━━━━━┳━━━━━━━━━━━━━━━━━━━━━━━━━━━━━┳━━━━━━━━━━━━━━━━━┓\n",
       "┃\u001b[1m \u001b[0m\u001b[1mLayer (type)                        \u001b[0m\u001b[1m \u001b[0m┃\u001b[1m \u001b[0m\u001b[1mOutput Shape               \u001b[0m\u001b[1m \u001b[0m┃\u001b[1m \u001b[0m\u001b[1m        Param #\u001b[0m\u001b[1m \u001b[0m┃\n",
       "┡━━━━━━━━━━━━━━━━━━━━━━━━━━━━━━━━━━━━━━╇━━━━━━━━━━━━━━━━━━━━━━━━━━━━━╇━━━━━━━━━━━━━━━━━┩\n",
       "│ lstm (\u001b[38;5;33mLSTM\u001b[0m)                          │ (\u001b[38;5;45mNone\u001b[0m, \u001b[38;5;34m70\u001b[0m, \u001b[38;5;34m70\u001b[0m)              │          \u001b[38;5;34m20,160\u001b[0m │\n",
       "├──────────────────────────────────────┼─────────────────────────────┼─────────────────┤\n",
       "│ dropout (\u001b[38;5;33mDropout\u001b[0m)                    │ (\u001b[38;5;45mNone\u001b[0m, \u001b[38;5;34m70\u001b[0m, \u001b[38;5;34m70\u001b[0m)              │               \u001b[38;5;34m0\u001b[0m │\n",
       "├──────────────────────────────────────┼─────────────────────────────┼─────────────────┤\n",
       "│ lstm_1 (\u001b[38;5;33mLSTM\u001b[0m)                        │ (\u001b[38;5;45mNone\u001b[0m, \u001b[38;5;34m70\u001b[0m, \u001b[38;5;34m70\u001b[0m)              │          \u001b[38;5;34m39,480\u001b[0m │\n",
       "├──────────────────────────────────────┼─────────────────────────────┼─────────────────┤\n",
       "│ dropout_1 (\u001b[38;5;33mDropout\u001b[0m)                  │ (\u001b[38;5;45mNone\u001b[0m, \u001b[38;5;34m70\u001b[0m, \u001b[38;5;34m70\u001b[0m)              │               \u001b[38;5;34m0\u001b[0m │\n",
       "├──────────────────────────────────────┼─────────────────────────────┼─────────────────┤\n",
       "│ lstm_2 (\u001b[38;5;33mLSTM\u001b[0m)                        │ (\u001b[38;5;45mNone\u001b[0m, \u001b[38;5;34m70\u001b[0m, \u001b[38;5;34m90\u001b[0m)              │          \u001b[38;5;34m57,960\u001b[0m │\n",
       "├──────────────────────────────────────┼─────────────────────────────┼─────────────────┤\n",
       "│ dropout_2 (\u001b[38;5;33mDropout\u001b[0m)                  │ (\u001b[38;5;45mNone\u001b[0m, \u001b[38;5;34m70\u001b[0m, \u001b[38;5;34m90\u001b[0m)              │               \u001b[38;5;34m0\u001b[0m │\n",
       "├──────────────────────────────────────┼─────────────────────────────┼─────────────────┤\n",
       "│ lstm_3 (\u001b[38;5;33mLSTM\u001b[0m)                        │ (\u001b[38;5;45mNone\u001b[0m, \u001b[38;5;34m120\u001b[0m)                 │         \u001b[38;5;34m101,280\u001b[0m │\n",
       "├──────────────────────────────────────┼─────────────────────────────┼─────────────────┤\n",
       "│ dropout_3 (\u001b[38;5;33mDropout\u001b[0m)                  │ (\u001b[38;5;45mNone\u001b[0m, \u001b[38;5;34m120\u001b[0m)                 │               \u001b[38;5;34m0\u001b[0m │\n",
       "├──────────────────────────────────────┼─────────────────────────────┼─────────────────┤\n",
       "│ dense (\u001b[38;5;33mDense\u001b[0m)                        │ (\u001b[38;5;45mNone\u001b[0m, \u001b[38;5;34m1\u001b[0m)                   │             \u001b[38;5;34m121\u001b[0m │\n",
       "└──────────────────────────────────────┴─────────────────────────────┴─────────────────┘\n"
      ]
     },
     "metadata": {},
     "output_type": "display_data"
    },
    {
     "data": {
      "text/html": [
       "<pre style=\"white-space:pre;overflow-x:auto;line-height:normal;font-family:Menlo,'DejaVu Sans Mono',consolas,'Courier New',monospace\"><span style=\"font-weight: bold\"> Total params: </span><span style=\"color: #00af00; text-decoration-color: #00af00\">219,001</span> (855.47 KB)\n",
       "</pre>\n"
      ],
      "text/plain": [
       "\u001b[1m Total params: \u001b[0m\u001b[38;5;34m219,001\u001b[0m (855.47 KB)\n"
      ]
     },
     "metadata": {},
     "output_type": "display_data"
    },
    {
     "data": {
      "text/html": [
       "<pre style=\"white-space:pre;overflow-x:auto;line-height:normal;font-family:Menlo,'DejaVu Sans Mono',consolas,'Courier New',monospace\"><span style=\"font-weight: bold\"> Trainable params: </span><span style=\"color: #00af00; text-decoration-color: #00af00\">219,001</span> (855.47 KB)\n",
       "</pre>\n"
      ],
      "text/plain": [
       "\u001b[1m Trainable params: \u001b[0m\u001b[38;5;34m219,001\u001b[0m (855.47 KB)\n"
      ]
     },
     "metadata": {},
     "output_type": "display_data"
    },
    {
     "data": {
      "text/html": [
       "<pre style=\"white-space:pre;overflow-x:auto;line-height:normal;font-family:Menlo,'DejaVu Sans Mono',consolas,'Courier New',monospace\"><span style=\"font-weight: bold\"> Non-trainable params: </span><span style=\"color: #00af00; text-decoration-color: #00af00\">0</span> (0.00 B)\n",
       "</pre>\n"
      ],
      "text/plain": [
       "\u001b[1m Non-trainable params: \u001b[0m\u001b[38;5;34m0\u001b[0m (0.00 B)\n"
      ]
     },
     "metadata": {},
     "output_type": "display_data"
    }
   ],
   "source": [
    "model.summary()"
   ]
  },
  {
   "cell_type": "code",
   "execution_count": 59,
   "id": "18760b84-20c3-49fb-9ecf-9d6e941fdeec",
   "metadata": {},
   "outputs": [],
   "source": [
    "#compiling the model.ie reconfigure the learning process\n",
    "#use adam for optimization(stochastic gradient descent)"
   ]
  },
  {
   "cell_type": "code",
   "execution_count": 60,
   "id": "7776803b-ad36-40ad-a5b3-8dcf47225ca9",
   "metadata": {},
   "outputs": [],
   "source": [
    "model.compile(optimizer='adam',loss = 'mean_squared_error')"
   ]
  },
  {
   "cell_type": "code",
   "execution_count": 61,
   "id": "96e2d630-8ec7-43f2-9408-637f75c628bf",
   "metadata": {},
   "outputs": [],
   "source": [
    "#training the model"
   ]
  },
  {
   "cell_type": "code",
   "execution_count": 63,
   "id": "250d273e-0da3-455b-abd9-e1cc5077c578",
   "metadata": {},
   "outputs": [
    {
     "name": "stdout",
     "output_type": "stream",
     "text": [
      "Epoch 1/100\n",
      "\u001b[1m30/30\u001b[0m \u001b[32m━━━━━━━━━━━━━━━━━━━━\u001b[0m\u001b[37m\u001b[0m \u001b[1m6s\u001b[0m 188ms/step - loss: 1.3831e-05\n",
      "Epoch 2/100\n",
      "\u001b[1m30/30\u001b[0m \u001b[32m━━━━━━━━━━━━━━━━━━━━\u001b[0m\u001b[37m\u001b[0m \u001b[1m6s\u001b[0m 182ms/step - loss: 1.1255e-05\n",
      "Epoch 3/100\n",
      "\u001b[1m30/30\u001b[0m \u001b[32m━━━━━━━━━━━━━━━━━━━━\u001b[0m\u001b[37m\u001b[0m \u001b[1m5s\u001b[0m 181ms/step - loss: 8.1151e-06\n",
      "Epoch 4/100\n",
      "\u001b[1m30/30\u001b[0m \u001b[32m━━━━━━━━━━━━━━━━━━━━\u001b[0m\u001b[37m\u001b[0m \u001b[1m6s\u001b[0m 186ms/step - loss: 7.0730e-06\n",
      "Epoch 5/100\n",
      "\u001b[1m30/30\u001b[0m \u001b[32m━━━━━━━━━━━━━━━━━━━━\u001b[0m\u001b[37m\u001b[0m \u001b[1m5s\u001b[0m 178ms/step - loss: 6.0589e-06\n",
      "Epoch 6/100\n",
      "\u001b[1m30/30\u001b[0m \u001b[32m━━━━━━━━━━━━━━━━━━━━\u001b[0m\u001b[37m\u001b[0m \u001b[1m11s\u001b[0m 184ms/step - loss: 6.0581e-06\n",
      "Epoch 7/100\n",
      "\u001b[1m30/30\u001b[0m \u001b[32m━━━━━━━━━━━━━━━━━━━━\u001b[0m\u001b[37m\u001b[0m \u001b[1m6s\u001b[0m 186ms/step - loss: 4.6327e-06\n",
      "Epoch 8/100\n",
      "\u001b[1m30/30\u001b[0m \u001b[32m━━━━━━━━━━━━━━━━━━━━\u001b[0m\u001b[37m\u001b[0m \u001b[1m6s\u001b[0m 186ms/step - loss: 4.3703e-06\n",
      "Epoch 9/100\n",
      "\u001b[1m30/30\u001b[0m \u001b[32m━━━━━━━━━━━━━━━━━━━━\u001b[0m\u001b[37m\u001b[0m \u001b[1m5s\u001b[0m 181ms/step - loss: 4.9465e-06\n",
      "Epoch 10/100\n",
      "\u001b[1m30/30\u001b[0m \u001b[32m━━━━━━━━━━━━━━━━━━━━\u001b[0m\u001b[37m\u001b[0m \u001b[1m11s\u001b[0m 209ms/step - loss: 3.5251e-06\n",
      "Epoch 11/100\n",
      "\u001b[1m30/30\u001b[0m \u001b[32m━━━━━━━━━━━━━━━━━━━━\u001b[0m\u001b[37m\u001b[0m \u001b[1m9s\u001b[0m 169ms/step - loss: 3.9386e-06\n",
      "Epoch 12/100\n",
      "\u001b[1m30/30\u001b[0m \u001b[32m━━━━━━━━━━━━━━━━━━━━\u001b[0m\u001b[37m\u001b[0m \u001b[1m5s\u001b[0m 167ms/step - loss: 3.2744e-06\n",
      "Epoch 13/100\n",
      "\u001b[1m30/30\u001b[0m \u001b[32m━━━━━━━━━━━━━━━━━━━━\u001b[0m\u001b[37m\u001b[0m \u001b[1m5s\u001b[0m 170ms/step - loss: 3.0125e-06\n",
      "Epoch 14/100\n",
      "\u001b[1m30/30\u001b[0m \u001b[32m━━━━━━━━━━━━━━━━━━━━\u001b[0m\u001b[37m\u001b[0m \u001b[1m10s\u001b[0m 172ms/step - loss: 2.9778e-06\n",
      "Epoch 15/100\n",
      "\u001b[1m30/30\u001b[0m \u001b[32m━━━━━━━━━━━━━━━━━━━━\u001b[0m\u001b[37m\u001b[0m \u001b[1m5s\u001b[0m 170ms/step - loss: 2.1927e-06\n",
      "Epoch 16/100\n",
      "\u001b[1m30/30\u001b[0m \u001b[32m━━━━━━━━━━━━━━━━━━━━\u001b[0m\u001b[37m\u001b[0m \u001b[1m5s\u001b[0m 166ms/step - loss: 2.2843e-06\n",
      "Epoch 17/100\n",
      "\u001b[1m30/30\u001b[0m \u001b[32m━━━━━━━━━━━━━━━━━━━━\u001b[0m\u001b[37m\u001b[0m \u001b[1m5s\u001b[0m 168ms/step - loss: 2.0160e-06\n",
      "Epoch 18/100\n",
      "\u001b[1m30/30\u001b[0m \u001b[32m━━━━━━━━━━━━━━━━━━━━\u001b[0m\u001b[37m\u001b[0m \u001b[1m5s\u001b[0m 168ms/step - loss: 2.0525e-06\n",
      "Epoch 19/100\n",
      "\u001b[1m30/30\u001b[0m \u001b[32m━━━━━━━━━━━━━━━━━━━━\u001b[0m\u001b[37m\u001b[0m \u001b[1m5s\u001b[0m 167ms/step - loss: 1.5801e-06\n",
      "Epoch 20/100\n",
      "\u001b[1m30/30\u001b[0m \u001b[32m━━━━━━━━━━━━━━━━━━━━\u001b[0m\u001b[37m\u001b[0m \u001b[1m5s\u001b[0m 169ms/step - loss: 1.5530e-06\n",
      "Epoch 21/100\n",
      "\u001b[1m30/30\u001b[0m \u001b[32m━━━━━━━━━━━━━━━━━━━━\u001b[0m\u001b[37m\u001b[0m \u001b[1m5s\u001b[0m 170ms/step - loss: 1.4476e-06\n",
      "Epoch 22/100\n",
      "\u001b[1m30/30\u001b[0m \u001b[32m━━━━━━━━━━━━━━━━━━━━\u001b[0m\u001b[37m\u001b[0m \u001b[1m5s\u001b[0m 174ms/step - loss: 1.2016e-06\n",
      "Epoch 23/100\n",
      "\u001b[1m30/30\u001b[0m \u001b[32m━━━━━━━━━━━━━━━━━━━━\u001b[0m\u001b[37m\u001b[0m \u001b[1m5s\u001b[0m 176ms/step - loss: 1.0989e-06\n",
      "Epoch 24/100\n",
      "\u001b[1m30/30\u001b[0m \u001b[32m━━━━━━━━━━━━━━━━━━━━\u001b[0m\u001b[37m\u001b[0m \u001b[1m5s\u001b[0m 178ms/step - loss: 9.4550e-07\n",
      "Epoch 25/100\n",
      "\u001b[1m30/30\u001b[0m \u001b[32m━━━━━━━━━━━━━━━━━━━━\u001b[0m\u001b[37m\u001b[0m \u001b[1m5s\u001b[0m 171ms/step - loss: 8.8575e-07\n",
      "Epoch 26/100\n",
      "\u001b[1m30/30\u001b[0m \u001b[32m━━━━━━━━━━━━━━━━━━━━\u001b[0m\u001b[37m\u001b[0m \u001b[1m10s\u001b[0m 174ms/step - loss: 8.4500e-07\n",
      "Epoch 27/100\n",
      "\u001b[1m30/30\u001b[0m \u001b[32m━━━━━━━━━━━━━━━━━━━━\u001b[0m\u001b[37m\u001b[0m \u001b[1m6s\u001b[0m 187ms/step - loss: 6.6190e-07\n",
      "Epoch 28/100\n",
      "\u001b[1m30/30\u001b[0m \u001b[32m━━━━━━━━━━━━━━━━━━━━\u001b[0m\u001b[37m\u001b[0m \u001b[1m6s\u001b[0m 186ms/step - loss: 5.7392e-07\n",
      "Epoch 29/100\n",
      "\u001b[1m30/30\u001b[0m \u001b[32m━━━━━━━━━━━━━━━━━━━━\u001b[0m\u001b[37m\u001b[0m \u001b[1m5s\u001b[0m 174ms/step - loss: 4.6972e-07\n",
      "Epoch 30/100\n",
      "\u001b[1m30/30\u001b[0m \u001b[32m━━━━━━━━━━━━━━━━━━━━\u001b[0m\u001b[37m\u001b[0m \u001b[1m5s\u001b[0m 171ms/step - loss: 4.6951e-07\n",
      "Epoch 31/100\n",
      "\u001b[1m30/30\u001b[0m \u001b[32m━━━━━━━━━━━━━━━━━━━━\u001b[0m\u001b[37m\u001b[0m \u001b[1m5s\u001b[0m 171ms/step - loss: 3.9583e-07\n",
      "Epoch 32/100\n",
      "\u001b[1m30/30\u001b[0m \u001b[32m━━━━━━━━━━━━━━━━━━━━\u001b[0m\u001b[37m\u001b[0m \u001b[1m5s\u001b[0m 174ms/step - loss: 3.8251e-07\n",
      "Epoch 33/100\n",
      "\u001b[1m30/30\u001b[0m \u001b[32m━━━━━━━━━━━━━━━━━━━━\u001b[0m\u001b[37m\u001b[0m \u001b[1m10s\u001b[0m 172ms/step - loss: 3.4703e-07\n",
      "Epoch 34/100\n",
      "\u001b[1m30/30\u001b[0m \u001b[32m━━━━━━━━━━━━━━━━━━━━\u001b[0m\u001b[37m\u001b[0m \u001b[1m5s\u001b[0m 169ms/step - loss: 2.6518e-07\n",
      "Epoch 35/100\n",
      "\u001b[1m30/30\u001b[0m \u001b[32m━━━━━━━━━━━━━━━━━━━━\u001b[0m\u001b[37m\u001b[0m \u001b[1m5s\u001b[0m 169ms/step - loss: 2.4764e-07\n",
      "Epoch 36/100\n",
      "\u001b[1m30/30\u001b[0m \u001b[32m━━━━━━━━━━━━━━━━━━━━\u001b[0m\u001b[37m\u001b[0m \u001b[1m5s\u001b[0m 168ms/step - loss: 2.2129e-07\n",
      "Epoch 37/100\n",
      "\u001b[1m30/30\u001b[0m \u001b[32m━━━━━━━━━━━━━━━━━━━━\u001b[0m\u001b[37m\u001b[0m \u001b[1m5s\u001b[0m 170ms/step - loss: 1.8827e-07\n",
      "Epoch 38/100\n",
      "\u001b[1m30/30\u001b[0m \u001b[32m━━━━━━━━━━━━━━━━━━━━\u001b[0m\u001b[37m\u001b[0m \u001b[1m5s\u001b[0m 171ms/step - loss: 1.5894e-07\n",
      "Epoch 39/100\n",
      "\u001b[1m30/30\u001b[0m \u001b[32m━━━━━━━━━━━━━━━━━━━━\u001b[0m\u001b[37m\u001b[0m \u001b[1m5s\u001b[0m 178ms/step - loss: 1.4705e-07\n",
      "Epoch 40/100\n",
      "\u001b[1m30/30\u001b[0m \u001b[32m━━━━━━━━━━━━━━━━━━━━\u001b[0m\u001b[37m\u001b[0m \u001b[1m5s\u001b[0m 175ms/step - loss: 1.1849e-07\n",
      "Epoch 41/100\n",
      "\u001b[1m30/30\u001b[0m \u001b[32m━━━━━━━━━━━━━━━━━━━━\u001b[0m\u001b[37m\u001b[0m \u001b[1m5s\u001b[0m 173ms/step - loss: 1.1360e-07\n",
      "Epoch 42/100\n",
      "\u001b[1m30/30\u001b[0m \u001b[32m━━━━━━━━━━━━━━━━━━━━\u001b[0m\u001b[37m\u001b[0m \u001b[1m5s\u001b[0m 176ms/step - loss: 9.2813e-08\n",
      "Epoch 43/100\n",
      "\u001b[1m30/30\u001b[0m \u001b[32m━━━━━━━━━━━━━━━━━━━━\u001b[0m\u001b[37m\u001b[0m \u001b[1m5s\u001b[0m 175ms/step - loss: 8.5266e-08\n",
      "Epoch 44/100\n",
      "\u001b[1m30/30\u001b[0m \u001b[32m━━━━━━━━━━━━━━━━━━━━\u001b[0m\u001b[37m\u001b[0m \u001b[1m5s\u001b[0m 179ms/step - loss: 7.6636e-08\n",
      "Epoch 45/100\n",
      "\u001b[1m30/30\u001b[0m \u001b[32m━━━━━━━━━━━━━━━━━━━━\u001b[0m\u001b[37m\u001b[0m \u001b[1m5s\u001b[0m 176ms/step - loss: 7.1933e-08\n",
      "Epoch 46/100\n",
      "\u001b[1m30/30\u001b[0m \u001b[32m━━━━━━━━━━━━━━━━━━━━\u001b[0m\u001b[37m\u001b[0m \u001b[1m5s\u001b[0m 174ms/step - loss: 5.7152e-08\n",
      "Epoch 47/100\n",
      "\u001b[1m30/30\u001b[0m \u001b[32m━━━━━━━━━━━━━━━━━━━━\u001b[0m\u001b[37m\u001b[0m \u001b[1m10s\u001b[0m 168ms/step - loss: 5.1254e-08\n",
      "Epoch 48/100\n",
      "\u001b[1m30/30\u001b[0m \u001b[32m━━━━━━━━━━━━━━━━━━━━\u001b[0m\u001b[37m\u001b[0m \u001b[1m5s\u001b[0m 170ms/step - loss: 5.3185e-08\n",
      "Epoch 49/100\n",
      "\u001b[1m30/30\u001b[0m \u001b[32m━━━━━━━━━━━━━━━━━━━━\u001b[0m\u001b[37m\u001b[0m \u001b[1m5s\u001b[0m 174ms/step - loss: 4.2829e-08\n",
      "Epoch 50/100\n",
      "\u001b[1m30/30\u001b[0m \u001b[32m━━━━━━━━━━━━━━━━━━━━\u001b[0m\u001b[37m\u001b[0m \u001b[1m11s\u001b[0m 186ms/step - loss: 3.1752e-08\n",
      "Epoch 51/100\n",
      "\u001b[1m30/30\u001b[0m \u001b[32m━━━━━━━━━━━━━━━━━━━━\u001b[0m\u001b[37m\u001b[0m \u001b[1m5s\u001b[0m 172ms/step - loss: 2.4190e-08\n",
      "Epoch 52/100\n",
      "\u001b[1m30/30\u001b[0m \u001b[32m━━━━━━━━━━━━━━━━━━━━\u001b[0m\u001b[37m\u001b[0m \u001b[1m5s\u001b[0m 181ms/step - loss: 2.3925e-08\n",
      "Epoch 53/100\n",
      "\u001b[1m30/30\u001b[0m \u001b[32m━━━━━━━━━━━━━━━━━━━━\u001b[0m\u001b[37m\u001b[0m \u001b[1m5s\u001b[0m 170ms/step - loss: 2.2228e-08\n",
      "Epoch 54/100\n",
      "\u001b[1m30/30\u001b[0m \u001b[32m━━━━━━━━━━━━━━━━━━━━\u001b[0m\u001b[37m\u001b[0m \u001b[1m5s\u001b[0m 168ms/step - loss: 1.6139e-08\n",
      "Epoch 55/100\n",
      "\u001b[1m30/30\u001b[0m \u001b[32m━━━━━━━━━━━━━━━━━━━━\u001b[0m\u001b[37m\u001b[0m \u001b[1m5s\u001b[0m 167ms/step - loss: 1.6081e-08\n",
      "Epoch 56/100\n",
      "\u001b[1m30/30\u001b[0m \u001b[32m━━━━━━━━━━━━━━━━━━━━\u001b[0m\u001b[37m\u001b[0m \u001b[1m5s\u001b[0m 173ms/step - loss: 1.3225e-08\n",
      "Epoch 57/100\n",
      "\u001b[1m30/30\u001b[0m \u001b[32m━━━━━━━━━━━━━━━━━━━━\u001b[0m\u001b[37m\u001b[0m \u001b[1m5s\u001b[0m 178ms/step - loss: 1.0705e-08\n",
      "Epoch 58/100\n",
      "\u001b[1m30/30\u001b[0m \u001b[32m━━━━━━━━━━━━━━━━━━━━\u001b[0m\u001b[37m\u001b[0m \u001b[1m5s\u001b[0m 175ms/step - loss: 1.1392e-08\n",
      "Epoch 59/100\n",
      "\u001b[1m30/30\u001b[0m \u001b[32m━━━━━━━━━━━━━━━━━━━━\u001b[0m\u001b[37m\u001b[0m \u001b[1m6s\u001b[0m 186ms/step - loss: 1.0433e-08\n",
      "Epoch 60/100\n",
      "\u001b[1m30/30\u001b[0m \u001b[32m━━━━━━━━━━━━━━━━━━━━\u001b[0m\u001b[37m\u001b[0m \u001b[1m5s\u001b[0m 175ms/step - loss: 7.3762e-09\n",
      "Epoch 61/100\n",
      "\u001b[1m30/30\u001b[0m \u001b[32m━━━━━━━━━━━━━━━━━━━━\u001b[0m\u001b[37m\u001b[0m \u001b[1m10s\u001b[0m 169ms/step - loss: 5.5497e-09\n",
      "Epoch 62/100\n",
      "\u001b[1m30/30\u001b[0m \u001b[32m━━━━━━━━━━━━━━━━━━━━\u001b[0m\u001b[37m\u001b[0m \u001b[1m6s\u001b[0m 183ms/step - loss: 5.7636e-09\n",
      "Epoch 63/100\n",
      "\u001b[1m30/30\u001b[0m \u001b[32m━━━━━━━━━━━━━━━━━━━━\u001b[0m\u001b[37m\u001b[0m \u001b[1m11s\u001b[0m 220ms/step - loss: 4.9094e-09\n",
      "Epoch 64/100\n",
      "\u001b[1m30/30\u001b[0m \u001b[32m━━━━━━━━━━━━━━━━━━━━\u001b[0m\u001b[37m\u001b[0m \u001b[1m7s\u001b[0m 234ms/step - loss: 4.5621e-09\n",
      "Epoch 65/100\n",
      "\u001b[1m30/30\u001b[0m \u001b[32m━━━━━━━━━━━━━━━━━━━━\u001b[0m\u001b[37m\u001b[0m \u001b[1m9s\u001b[0m 190ms/step - loss: 3.7626e-09\n",
      "Epoch 66/100\n",
      "\u001b[1m30/30\u001b[0m \u001b[32m━━━━━━━━━━━━━━━━━━━━\u001b[0m\u001b[37m\u001b[0m \u001b[1m6s\u001b[0m 197ms/step - loss: 3.1726e-09\n",
      "Epoch 67/100\n",
      "\u001b[1m30/30\u001b[0m \u001b[32m━━━━━━━━━━━━━━━━━━━━\u001b[0m\u001b[37m\u001b[0m \u001b[1m9s\u001b[0m 170ms/step - loss: 2.9418e-09\n",
      "Epoch 68/100\n",
      "\u001b[1m30/30\u001b[0m \u001b[32m━━━━━━━━━━━━━━━━━━━━\u001b[0m\u001b[37m\u001b[0m \u001b[1m5s\u001b[0m 168ms/step - loss: 2.2540e-09\n",
      "Epoch 69/100\n",
      "\u001b[1m30/30\u001b[0m \u001b[32m━━━━━━━━━━━━━━━━━━━━\u001b[0m\u001b[37m\u001b[0m \u001b[1m5s\u001b[0m 172ms/step - loss: 2.6856e-09\n",
      "Epoch 70/100\n",
      "\u001b[1m30/30\u001b[0m \u001b[32m━━━━━━━━━━━━━━━━━━━━\u001b[0m\u001b[37m\u001b[0m \u001b[1m5s\u001b[0m 171ms/step - loss: 2.2452e-09\n",
      "Epoch 71/100\n",
      "\u001b[1m30/30\u001b[0m \u001b[32m━━━━━━━━━━━━━━━━━━━━\u001b[0m\u001b[37m\u001b[0m \u001b[1m5s\u001b[0m 170ms/step - loss: 1.5098e-09\n",
      "Epoch 72/100\n",
      "\u001b[1m30/30\u001b[0m \u001b[32m━━━━━━━━━━━━━━━━━━━━\u001b[0m\u001b[37m\u001b[0m \u001b[1m5s\u001b[0m 172ms/step - loss: 1.3993e-09\n",
      "Epoch 73/100\n",
      "\u001b[1m30/30\u001b[0m \u001b[32m━━━━━━━━━━━━━━━━━━━━\u001b[0m\u001b[37m\u001b[0m \u001b[1m5s\u001b[0m 176ms/step - loss: 1.3397e-09\n",
      "Epoch 74/100\n",
      "\u001b[1m30/30\u001b[0m \u001b[32m━━━━━━━━━━━━━━━━━━━━\u001b[0m\u001b[37m\u001b[0m \u001b[1m10s\u001b[0m 178ms/step - loss: 9.7341e-10\n",
      "Epoch 75/100\n",
      "\u001b[1m30/30\u001b[0m \u001b[32m━━━━━━━━━━━━━━━━━━━━\u001b[0m\u001b[37m\u001b[0m \u001b[1m6s\u001b[0m 205ms/step - loss: 8.1125e-10\n",
      "Epoch 76/100\n",
      "\u001b[1m30/30\u001b[0m \u001b[32m━━━━━━━━━━━━━━━━━━━━\u001b[0m\u001b[37m\u001b[0m \u001b[1m10s\u001b[0m 197ms/step - loss: 1.0107e-09\n",
      "Epoch 77/100\n",
      "\u001b[1m30/30\u001b[0m \u001b[32m━━━━━━━━━━━━━━━━━━━━\u001b[0m\u001b[37m\u001b[0m \u001b[1m6s\u001b[0m 188ms/step - loss: 6.8811e-10\n",
      "Epoch 78/100\n",
      "\u001b[1m30/30\u001b[0m \u001b[32m━━━━━━━━━━━━━━━━━━━━\u001b[0m\u001b[37m\u001b[0m \u001b[1m6s\u001b[0m 184ms/step - loss: 6.1498e-10\n",
      "Epoch 79/100\n",
      "\u001b[1m30/30\u001b[0m \u001b[32m━━━━━━━━━━━━━━━━━━━━\u001b[0m\u001b[37m\u001b[0m \u001b[1m5s\u001b[0m 173ms/step - loss: 6.4441e-10\n",
      "Epoch 80/100\n",
      "\u001b[1m30/30\u001b[0m \u001b[32m━━━━━━━━━━━━━━━━━━━━\u001b[0m\u001b[37m\u001b[0m \u001b[1m6s\u001b[0m 194ms/step - loss: 5.8852e-10\n",
      "Epoch 81/100\n",
      "\u001b[1m30/30\u001b[0m \u001b[32m━━━━━━━━━━━━━━━━━━━━\u001b[0m\u001b[37m\u001b[0m \u001b[1m6s\u001b[0m 187ms/step - loss: 5.0330e-10\n",
      "Epoch 82/100\n",
      "\u001b[1m30/30\u001b[0m \u001b[32m━━━━━━━━━━━━━━━━━━━━\u001b[0m\u001b[37m\u001b[0m \u001b[1m7s\u001b[0m 220ms/step - loss: 4.4402e-10\n",
      "Epoch 83/100\n",
      "\u001b[1m30/30\u001b[0m \u001b[32m━━━━━━━━━━━━━━━━━━━━\u001b[0m\u001b[37m\u001b[0m \u001b[1m6s\u001b[0m 185ms/step - loss: 3.6507e-10\n",
      "Epoch 84/100\n",
      "\u001b[1m30/30\u001b[0m \u001b[32m━━━━━━━━━━━━━━━━━━━━\u001b[0m\u001b[37m\u001b[0m \u001b[1m6s\u001b[0m 208ms/step - loss: 3.2745e-10\n",
      "Epoch 85/100\n",
      "\u001b[1m30/30\u001b[0m \u001b[32m━━━━━━━━━━━━━━━━━━━━\u001b[0m\u001b[37m\u001b[0m \u001b[1m10s\u001b[0m 185ms/step - loss: 3.4373e-10\n",
      "Epoch 86/100\n",
      "\u001b[1m30/30\u001b[0m \u001b[32m━━━━━━━━━━━━━━━━━━━━\u001b[0m\u001b[37m\u001b[0m \u001b[1m10s\u001b[0m 188ms/step - loss: 2.8938e-10\n",
      "Epoch 87/100\n",
      "\u001b[1m30/30\u001b[0m \u001b[32m━━━━━━━━━━━━━━━━━━━━\u001b[0m\u001b[37m\u001b[0m \u001b[1m6s\u001b[0m 204ms/step - loss: 2.7687e-10\n",
      "Epoch 88/100\n",
      "\u001b[1m30/30\u001b[0m \u001b[32m━━━━━━━━━━━━━━━━━━━━\u001b[0m\u001b[37m\u001b[0m \u001b[1m5s\u001b[0m 168ms/step - loss: 2.4617e-10\n",
      "Epoch 89/100\n",
      "\u001b[1m30/30\u001b[0m \u001b[32m━━━━━━━━━━━━━━━━━━━━\u001b[0m\u001b[37m\u001b[0m \u001b[1m5s\u001b[0m 177ms/step - loss: 2.2417e-10\n",
      "Epoch 90/100\n",
      "\u001b[1m30/30\u001b[0m \u001b[32m━━━━━━━━━━━━━━━━━━━━\u001b[0m\u001b[37m\u001b[0m \u001b[1m11s\u001b[0m 207ms/step - loss: 1.9294e-10\n",
      "Epoch 91/100\n",
      "\u001b[1m30/30\u001b[0m \u001b[32m━━━━━━━━━━━━━━━━━━━━\u001b[0m\u001b[37m\u001b[0m \u001b[1m6s\u001b[0m 183ms/step - loss: 2.1531e-10\n",
      "Epoch 92/100\n",
      "\u001b[1m30/30\u001b[0m \u001b[32m━━━━━━━━━━━━━━━━━━━━\u001b[0m\u001b[37m\u001b[0m \u001b[1m6s\u001b[0m 210ms/step - loss: 1.7903e-10\n",
      "Epoch 93/100\n",
      "\u001b[1m30/30\u001b[0m \u001b[32m━━━━━━━━━━━━━━━━━━━━\u001b[0m\u001b[37m\u001b[0m \u001b[1m6s\u001b[0m 208ms/step - loss: 1.8846e-10\n",
      "Epoch 94/100\n",
      "\u001b[1m30/30\u001b[0m \u001b[32m━━━━━━━━━━━━━━━━━━━━\u001b[0m\u001b[37m\u001b[0m \u001b[1m6s\u001b[0m 212ms/step - loss: 1.5341e-10\n",
      "Epoch 95/100\n",
      "\u001b[1m30/30\u001b[0m \u001b[32m━━━━━━━━━━━━━━━━━━━━\u001b[0m\u001b[37m\u001b[0m \u001b[1m6s\u001b[0m 185ms/step - loss: 1.4033e-10\n",
      "Epoch 96/100\n",
      "\u001b[1m30/30\u001b[0m \u001b[32m━━━━━━━━━━━━━━━━━━━━\u001b[0m\u001b[37m\u001b[0m \u001b[1m11s\u001b[0m 216ms/step - loss: 1.2284e-10\n",
      "Epoch 97/100\n",
      "\u001b[1m30/30\u001b[0m \u001b[32m━━━━━━━━━━━━━━━━━━━━\u001b[0m\u001b[37m\u001b[0m \u001b[1m10s\u001b[0m 221ms/step - loss: 1.2078e-10\n",
      "Epoch 98/100\n",
      "\u001b[1m30/30\u001b[0m \u001b[32m━━━━━━━━━━━━━━━━━━━━\u001b[0m\u001b[37m\u001b[0m \u001b[1m7s\u001b[0m 228ms/step - loss: 1.1564e-10\n",
      "Epoch 99/100\n",
      "\u001b[1m30/30\u001b[0m \u001b[32m━━━━━━━━━━━━━━━━━━━━\u001b[0m\u001b[37m\u001b[0m \u001b[1m6s\u001b[0m 190ms/step - loss: 1.0187e-10\n",
      "Epoch 100/100\n",
      "\u001b[1m30/30\u001b[0m \u001b[32m━━━━━━━━━━━━━━━━━━━━\u001b[0m\u001b[37m\u001b[0m \u001b[1m6s\u001b[0m 190ms/step - loss: 9.7973e-11\n"
     ]
    },
    {
     "data": {
      "text/plain": [
       "<keras.src.callbacks.history.History at 0x15edb6455d0>"
      ]
     },
     "execution_count": 63,
     "metadata": {},
     "output_type": "execute_result"
    }
   ],
   "source": [
    "model.fit(X_train,y_train, batch_size=32,epochs=100)"
   ]
  },
  {
   "cell_type": "markdown",
   "id": "60badbc6-e5a2-4e6b-99f8-e58d459d0f00",
   "metadata": {},
   "source": [
    "## Making predictions"
   ]
  },
  {
   "cell_type": "code",
   "execution_count": 64,
   "id": "4bbfd4a9-3d76-41ea-9977-36bc8508b06f",
   "metadata": {},
   "outputs": [
    {
     "data": {
      "text/html": [
       "<div>\n",
       "<style scoped>\n",
       "    .dataframe tbody tr th:only-of-type {\n",
       "        vertical-align: middle;\n",
       "    }\n",
       "\n",
       "    .dataframe tbody tr th {\n",
       "        vertical-align: top;\n",
       "    }\n",
       "\n",
       "    .dataframe thead th {\n",
       "        text-align: right;\n",
       "    }\n",
       "</style>\n",
       "<table border=\"1\" class=\"dataframe\">\n",
       "  <thead>\n",
       "    <tr style=\"text-align: right;\">\n",
       "      <th></th>\n",
       "      <th>Date</th>\n",
       "      <th>Open</th>\n",
       "      <th>High</th>\n",
       "      <th>Low</th>\n",
       "      <th>Close</th>\n",
       "      <th>Adj Close</th>\n",
       "      <th>Volume</th>\n",
       "    </tr>\n",
       "  </thead>\n",
       "  <tbody>\n",
       "    <tr>\n",
       "      <th>0</th>\n",
       "      <td>2023-07-13</td>\n",
       "      <td>121.540001</td>\n",
       "      <td>125.334999</td>\n",
       "      <td>121.059998</td>\n",
       "      <td>124.830002</td>\n",
       "      <td>124.688110</td>\n",
       "      <td>31535900</td>\n",
       "    </tr>\n",
       "    <tr>\n",
       "      <th>1</th>\n",
       "      <td>2023-07-14</td>\n",
       "      <td>125.129997</td>\n",
       "      <td>127.089996</td>\n",
       "      <td>124.900002</td>\n",
       "      <td>125.699997</td>\n",
       "      <td>125.557121</td>\n",
       "      <td>20482800</td>\n",
       "    </tr>\n",
       "    <tr>\n",
       "      <th>2</th>\n",
       "      <td>2023-07-17</td>\n",
       "      <td>126.059998</td>\n",
       "      <td>127.279999</td>\n",
       "      <td>124.500000</td>\n",
       "      <td>125.059998</td>\n",
       "      <td>124.917847</td>\n",
       "      <td>20675300</td>\n",
       "    </tr>\n",
       "    <tr>\n",
       "      <th>3</th>\n",
       "      <td>2023-07-18</td>\n",
       "      <td>124.904999</td>\n",
       "      <td>124.989998</td>\n",
       "      <td>123.300003</td>\n",
       "      <td>124.080002</td>\n",
       "      <td>123.938965</td>\n",
       "      <td>21071200</td>\n",
       "    </tr>\n",
       "    <tr>\n",
       "      <th>4</th>\n",
       "      <td>2023-07-19</td>\n",
       "      <td>124.790001</td>\n",
       "      <td>125.470001</td>\n",
       "      <td>122.470001</td>\n",
       "      <td>122.779999</td>\n",
       "      <td>122.640442</td>\n",
       "      <td>22313800</td>\n",
       "    </tr>\n",
       "  </tbody>\n",
       "</table>\n",
       "</div>"
      ],
      "text/plain": [
       "         Date        Open        High         Low       Close   Adj Close  \\\n",
       "0  2023-07-13  121.540001  125.334999  121.059998  124.830002  124.688110   \n",
       "1  2023-07-14  125.129997  127.089996  124.900002  125.699997  125.557121   \n",
       "2  2023-07-17  126.059998  127.279999  124.500000  125.059998  124.917847   \n",
       "3  2023-07-18  124.904999  124.989998  123.300003  124.080002  123.938965   \n",
       "4  2023-07-19  124.790001  125.470001  122.470001  122.779999  122.640442   \n",
       "\n",
       "     Volume  \n",
       "0  31535900  \n",
       "1  20482800  \n",
       "2  20675300  \n",
       "3  21071200  \n",
       "4  22313800  "
      ]
     },
     "execution_count": 64,
     "metadata": {},
     "output_type": "execute_result"
    }
   ],
   "source": [
    "test_df = pd.read_csv(\"testing.csv\")\n",
    "test_df.head()"
   ]
  },
  {
   "cell_type": "code",
   "execution_count": 65,
   "id": "f4146448-d924-451f-abca-981b4f5f4902",
   "metadata": {},
   "outputs": [
    {
     "data": {
      "text/plain": [
       "(252, 7)"
      ]
     },
     "execution_count": 65,
     "metadata": {},
     "output_type": "execute_result"
    }
   ],
   "source": [
    "test_df.shape"
   ]
  },
  {
   "cell_type": "code",
   "execution_count": 67,
   "id": "1803825b-e1d0-4c93-8884-998103477517",
   "metadata": {},
   "outputs": [
    {
     "name": "stdout",
     "output_type": "stream",
     "text": [
      "<class 'pandas.core.frame.DataFrame'>\n",
      "RangeIndex: 252 entries, 0 to 251\n",
      "Data columns (total 7 columns):\n",
      " #   Column     Non-Null Count  Dtype  \n",
      "---  ------     --------------  -----  \n",
      " 0   Date       252 non-null    object \n",
      " 1   Open       252 non-null    float64\n",
      " 2   High       252 non-null    float64\n",
      " 3   Low        252 non-null    float64\n",
      " 4   Close      252 non-null    float64\n",
      " 5   Adj Close  252 non-null    float64\n",
      " 6   Volume     252 non-null    int64  \n",
      "dtypes: float64(5), int64(1), object(1)\n",
      "memory usage: 13.9+ KB\n"
     ]
    }
   ],
   "source": [
    "test_df.info()"
   ]
  },
  {
   "cell_type": "code",
   "execution_count": 68,
   "id": "c721afe1-f203-42e4-9368-4883732d952f",
   "metadata": {},
   "outputs": [],
   "source": [
    "#select open column\n",
    "stock_test = test_df.iloc[:, 1:2].values"
   ]
  },
  {
   "cell_type": "code",
   "execution_count": 69,
   "id": "19ae1033-dc51-4044-9b2b-7b2e7335a936",
   "metadata": {},
   "outputs": [
    {
     "data": {
      "text/plain": [
       "(252, 1)"
      ]
     },
     "execution_count": 69,
     "metadata": {},
     "output_type": "execute_result"
    }
   ],
   "source": [
    "stock_test.shape"
   ]
  },
  {
   "cell_type": "code",
   "execution_count": 72,
   "id": "b7d3f6e2-5407-4359-ae6d-7ffad2767741",
   "metadata": {},
   "outputs": [
    {
     "data": {
      "text/html": [
       "<div>\n",
       "<style scoped>\n",
       "    .dataframe tbody tr th:only-of-type {\n",
       "        vertical-align: middle;\n",
       "    }\n",
       "\n",
       "    .dataframe tbody tr th {\n",
       "        vertical-align: top;\n",
       "    }\n",
       "\n",
       "    .dataframe thead th {\n",
       "        text-align: right;\n",
       "    }\n",
       "</style>\n",
       "<table border=\"1\" class=\"dataframe\">\n",
       "  <thead>\n",
       "    <tr style=\"text-align: right;\">\n",
       "      <th></th>\n",
       "      <th>Date</th>\n",
       "      <th>Open</th>\n",
       "      <th>High</th>\n",
       "      <th>Low</th>\n",
       "      <th>Close</th>\n",
       "      <th>Adj Close</th>\n",
       "      <th>Volume</th>\n",
       "    </tr>\n",
       "  </thead>\n",
       "  <tbody>\n",
       "    <tr>\n",
       "      <th>0</th>\n",
       "      <td>2019-07-15</td>\n",
       "      <td>57.342999</td>\n",
       "      <td>57.541000</td>\n",
       "      <td>56.970001</td>\n",
       "      <td>57.516998</td>\n",
       "      <td>57.451622</td>\n",
       "      <td>18076000</td>\n",
       "    </tr>\n",
       "    <tr>\n",
       "      <th>1</th>\n",
       "      <td>2019-07-16</td>\n",
       "      <td>57.299999</td>\n",
       "      <td>57.929001</td>\n",
       "      <td>57.250000</td>\n",
       "      <td>57.679001</td>\n",
       "      <td>57.613438</td>\n",
       "      <td>24776000</td>\n",
       "    </tr>\n",
       "  </tbody>\n",
       "</table>\n",
       "</div>"
      ],
      "text/plain": [
       "         Date       Open       High        Low      Close  Adj Close    Volume\n",
       "0  2019-07-15  57.342999  57.541000  56.970001  57.516998  57.451622  18076000\n",
       "1  2019-07-16  57.299999  57.929001  57.250000  57.679001  57.613438  24776000"
      ]
     },
     "execution_count": 72,
     "metadata": {},
     "output_type": "execute_result"
    }
   ],
   "source": [
    "train_df.head(2)"
   ]
  },
  {
   "cell_type": "code",
   "execution_count": 74,
   "id": "fb9fc666-b4f0-403f-a24c-01b84a8ad34b",
   "metadata": {},
   "outputs": [
    {
     "data": {
      "text/html": [
       "<div>\n",
       "<style scoped>\n",
       "    .dataframe tbody tr th:only-of-type {\n",
       "        vertical-align: middle;\n",
       "    }\n",
       "\n",
       "    .dataframe tbody tr th {\n",
       "        vertical-align: top;\n",
       "    }\n",
       "\n",
       "    .dataframe thead th {\n",
       "        text-align: right;\n",
       "    }\n",
       "</style>\n",
       "<table border=\"1\" class=\"dataframe\">\n",
       "  <thead>\n",
       "    <tr style=\"text-align: right;\">\n",
       "      <th></th>\n",
       "      <th>Date</th>\n",
       "      <th>Open</th>\n",
       "      <th>High</th>\n",
       "      <th>Low</th>\n",
       "      <th>Close</th>\n",
       "      <th>Adj Close</th>\n",
       "      <th>Volume</th>\n",
       "    </tr>\n",
       "  </thead>\n",
       "  <tbody>\n",
       "    <tr>\n",
       "      <th>0</th>\n",
       "      <td>2023-07-13</td>\n",
       "      <td>121.540001</td>\n",
       "      <td>125.334999</td>\n",
       "      <td>121.059998</td>\n",
       "      <td>124.830002</td>\n",
       "      <td>124.688110</td>\n",
       "      <td>31535900</td>\n",
       "    </tr>\n",
       "    <tr>\n",
       "      <th>1</th>\n",
       "      <td>2023-07-14</td>\n",
       "      <td>125.129997</td>\n",
       "      <td>127.089996</td>\n",
       "      <td>124.900002</td>\n",
       "      <td>125.699997</td>\n",
       "      <td>125.557121</td>\n",
       "      <td>20482800</td>\n",
       "    </tr>\n",
       "  </tbody>\n",
       "</table>\n",
       "</div>"
      ],
      "text/plain": [
       "         Date        Open        High         Low       Close   Adj Close  \\\n",
       "0  2023-07-13  121.540001  125.334999  121.059998  124.830002  124.688110   \n",
       "1  2023-07-14  125.129997  127.089996  124.900002  125.699997  125.557121   \n",
       "\n",
       "     Volume  \n",
       "0  31535900  \n",
       "1  20482800  "
      ]
     },
     "execution_count": 74,
     "metadata": {},
     "output_type": "execute_result"
    }
   ],
   "source": [
    "test_df.head(2)"
   ]
  },
  {
   "cell_type": "code",
   "execution_count": 77,
   "id": "a8222ef6-e346-4e35-b794-847eaa4c2092",
   "metadata": {},
   "outputs": [],
   "source": [
    "dataset = pd.concat([train_df[\"Open\"], test_df[\"Open\"]], axis=0)"
   ]
  },
  {
   "cell_type": "code",
   "execution_count": 78,
   "id": "482e6b5b-2f21-45b5-af7e-5464895b7007",
   "metadata": {},
   "outputs": [],
   "source": [
    "#stock prices of previous 70 days"
   ]
  },
  {
   "cell_type": "code",
   "execution_count": 81,
   "id": "0c70a88c-f9f2-4bba-a18e-70b18783fbf9",
   "metadata": {},
   "outputs": [
    {
     "name": "stderr",
     "output_type": "stream",
     "text": [
      "C:\\Users\\UCHIHA MADARA\\AppData\\Local\\Temp\\ipykernel_9088\\1165227016.py:1: FutureWarning: The behavior of `series[i:j]` with an integer-dtype index is deprecated. In a future version, this will be treated as *label-based* indexing, consistent with e.g. `series[i]` lookups. To retain the old behavior, use `series.iloc[i:j]`. To get the future behavior, use `series.loc[i:j]`.\n",
      "  input = dataset[len(dataset)-len(test_df)-60:].values\n"
     ]
    }
   ],
   "source": [
    "input = dataset[len(dataset)-len(test_df)-70:].values"
   ]
  },
  {
   "cell_type": "code",
   "execution_count": 82,
   "id": "9f0d2733-a766-4426-a8d2-488ce32d1b51",
   "metadata": {},
   "outputs": [],
   "source": [
    "#reshape into numpy array"
   ]
  },
  {
   "cell_type": "code",
   "execution_count": 83,
   "id": "dae5d31c-2758-45e5-af06-ab53f58eebab",
   "metadata": {},
   "outputs": [],
   "source": [
    "inputs = input.reshape(-1,1)"
   ]
  },
  {
   "cell_type": "code",
   "execution_count": 84,
   "id": "628b8ee4-3eae-44a3-ac6e-d79912fb821d",
   "metadata": {},
   "outputs": [],
   "source": [
    "#feature scaling"
   ]
  },
  {
   "cell_type": "code",
   "execution_count": 85,
   "id": "6f9ac1a7-0f0d-426c-997a-463e44ee9938",
   "metadata": {},
   "outputs": [],
   "source": [
    "inputs = scaled.transform(inputs)"
   ]
  },
  {
   "cell_type": "code",
   "execution_count": 86,
   "id": "6d8b8b60-16cd-48e5-998a-09c8bc6a352a",
   "metadata": {},
   "outputs": [],
   "source": [
    "#test set"
   ]
  },
  {
   "cell_type": "code",
   "execution_count": 89,
   "id": "33221ad1-3b42-4709-8cb5-c2f3c4a07f5e",
   "metadata": {},
   "outputs": [],
   "source": [
    "X_test = []\n",
    "for i in range(70, 90):\n",
    "    X_test.append(inputs[i-70:i, 0])\n",
    "    "
   ]
  },
  {
   "cell_type": "code",
   "execution_count": 90,
   "id": "2dcf05cd-1131-464a-9e63-01f81d47d4a8",
   "metadata": {},
   "outputs": [],
   "source": [
    "#convert to np array"
   ]
  },
  {
   "cell_type": "code",
   "execution_count": 91,
   "id": "f003fcc0-bcb3-463e-aa05-e2fa30552943",
   "metadata": {},
   "outputs": [],
   "source": [
    "X_test = np.array(X_test)"
   ]
  },
  {
   "cell_type": "code",
   "execution_count": 92,
   "id": "fac699c5-ea7c-49ea-b71d-434b680cdad9",
   "metadata": {},
   "outputs": [],
   "source": [
    "#conver to 3d"
   ]
  },
  {
   "cell_type": "code",
   "execution_count": 93,
   "id": "0efb0a86-e6c6-4ca1-9706-46c7c7b2073c",
   "metadata": {},
   "outputs": [],
   "source": [
    "X_test = np.reshape(X_test,(X_test.shape[0],X_test.shape[1],1))"
   ]
  },
  {
   "cell_type": "code",
   "execution_count": 94,
   "id": "6b865eb8-cc76-47e1-b20e-011ad45c379e",
   "metadata": {},
   "outputs": [],
   "source": [
    "#getting predicted stock prices"
   ]
  },
  {
   "cell_type": "code",
   "execution_count": 95,
   "id": "12801bcc-48df-47ec-b343-7fbcf003a731",
   "metadata": {},
   "outputs": [],
   "source": [
    "#variable predicted prices"
   ]
  },
  {
   "cell_type": "code",
   "execution_count": 97,
   "id": "35d4411a-5288-429f-8452-762ea85c7148",
   "metadata": {},
   "outputs": [
    {
     "name": "stdout",
     "output_type": "stream",
     "text": [
      "\u001b[1m1/1\u001b[0m \u001b[32m━━━━━━━━━━━━━━━━━━━━\u001b[0m\u001b[37m\u001b[0m \u001b[1m0s\u001b[0m 163ms/step\n"
     ]
    }
   ],
   "source": [
    "predicted_stocks = model.predict(X_test)\n",
    "predicted_stocks = scaled.inverse_transform(predicted_stocks)"
   ]
  },
  {
   "cell_type": "code",
   "execution_count": 98,
   "id": "5ff9191c-25eb-4d5d-8c76-543666249720",
   "metadata": {},
   "outputs": [
    {
     "name": "stdout",
     "output_type": "stream",
     "text": [
      "[57.299965]\n"
     ]
    }
   ],
   "source": [
    "print(predicted_stocks[0])"
   ]
  },
  {
   "cell_type": "code",
   "execution_count": null,
   "id": "0c070a93-6fd2-47c2-9fcb-5afc5b9bb211",
   "metadata": {},
   "outputs": [],
   "source": []
  }
 ],
 "metadata": {
  "kernelspec": {
   "display_name": "Python 3 (ipykernel)",
   "language": "python",
   "name": "python3"
  },
  "language_info": {
   "codemirror_mode": {
    "name": "ipython",
    "version": 3
   },
   "file_extension": ".py",
   "mimetype": "text/x-python",
   "name": "python",
   "nbconvert_exporter": "python",
   "pygments_lexer": "ipython3",
   "version": "3.10.4"
  }
 },
 "nbformat": 4,
 "nbformat_minor": 5
}
